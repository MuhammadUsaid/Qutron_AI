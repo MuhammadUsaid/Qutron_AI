{
  "nbformat": 4,
  "nbformat_minor": 0,
  "metadata": {
    "colab": {
      "name": "Qutron1.ipynb",
      "provenance": [],
      "include_colab_link": true
    },
    "kernelspec": {
      "name": "python3",
      "display_name": "Python 3"
    }
  },
  "cells": [
    {
      "cell_type": "markdown",
      "metadata": {
        "id": "view-in-github",
        "colab_type": "text"
      },
      "source": [
        "<a href=\"https://colab.research.google.com/github/MuhammadUsaid/Qutron_AI/blob/master/Qutron1.ipynb\" target=\"_parent\"><img src=\"https://colab.research.google.com/assets/colab-badge.svg\" alt=\"Open In Colab\"/></a>"
      ]
    },
    {
      "cell_type": "code",
      "metadata": {
        "id": "0nOZjjloY_xO",
        "colab_type": "code",
        "colab": {}
      },
      "source": [
        "!pip install folium==0.2.1\n",
        "!pip install qiskit"
      ],
      "execution_count": null,
      "outputs": []
    },
    {
      "cell_type": "code",
      "metadata": {
        "id": "c2pUm_AXba-8",
        "colab_type": "code",
        "colab": {
          "base_uri": "https://localhost:8080/",
          "height": 353
        },
        "outputId": "06248119-6a35-411d-98b1-c27522aec8e2"
      },
      "source": [
        "from qiskit import QuantumCircuit, QuantumRegister, ClassicalRegister\n",
        "from qiskit import Aer, execute\n",
        "from qiskit.tools.visualization import plot_histogram, plot_state_city\n",
        "import random\n",
        "Aer.backends()\n",
        "\n",
        "from qiskit.providers.aer import QasmSimulator, StatevectorSimulator, UnitarySimulator\n",
        "\n",
        "def binary(number, n):\n",
        "  '''The function to convert the number into binary of n bits'''\n",
        "  number = bin(number)\n",
        "  number = number[2:]\n",
        "  n = n - len(number)\n",
        "  for i in range(n):\n",
        "    number = '0' + number\n",
        "  return number\n",
        "\n",
        "def seqOfNotGates(idx, n):\n",
        "  '''The function to find the number of X gates for the implementation of sign flip blocks'''\n",
        "  idx = binary(idx, n)\n",
        "  seq = []\n",
        "  for i in range(len(idx)):\n",
        "    if int(idx[i]) != 1:\n",
        "      seq.append(i)\n",
        "  return seq\n",
        "def prepareWiState(inputs, n):\n",
        "  '''The function to implement Ui transformation\n",
        "    Takes inputs which is a vector and n is the number of qubits'''\n",
        "  for idx in range(len(inputs)): #Input is the vector containing 1 & -1 inputs\n",
        "    if inputs[idx] == -1:\n",
        "      sequence = seqOfNotGates(idx, n)\n",
        "      for i in sequence:\n",
        "        circ.x(int(i))\n",
        "      circ.cz(0,1)\n",
        "      for i in sequence:\n",
        "        circ.x(int(i))\n",
        "def prepareWwState(inputs, n):\n",
        "  '''The function to implement Uw transformation'''\n",
        "  prepareWiState(inputs, n)\n",
        "  for i in range(n):\n",
        "    circ.h(i)\n",
        "  for i in range(n):\n",
        "    circ.x(i)\n",
        "#i is the input\n",
        "#w is the weight\n",
        "i = [1, 1, 1, 1]\n",
        "inputVectors = [\n",
        "      [1,1,1,1], [1,-1,1,-1], [1,1,1,-1], [1,1,-1,-1], [-1,-1,-1,-1], [1,1,-1,1], [-1,-1,1,1], [1,1,1,1], [-1,1,1,-1], [-1,1,1,1]\n",
        "]\n",
        "actualWeights = [-1,-1,-1,-1]\n",
        "labels = [1,1,1,1,1,1,1,0,1,0]\n",
        "circ = QuantumCircuit(3,1)\n",
        "def quantumPerceptron(inputs, weights, n):\n",
        "  '''Function to implement Actual Quantum perceptron'''\n",
        "  for i in range(n):\n",
        "    circ.h(i) #Implementing Hadamard Gates to make superposition state\n",
        "  prepareWiState(inputs, n)\n",
        "  prepareWwState(weights, n)\n",
        "  circ.ccx(0,1,2)\n",
        "  circ.measure(2,0)\n",
        "def chooseRandomIndex(indexes):\n",
        "  chosen = []\n",
        "  changeIndexes = []\n",
        "  for i in range(len(indexes)//2):\n",
        "    r = random.randint(0,len(indexes)-1)\n",
        "    #print(\"R\", r)\n",
        "    while r in chosen:\n",
        "      r = random.randint(0,len(indexes)-1)\n",
        "    chosen.append(r)\n",
        "    changeIndexes.append(indexes[r])\n",
        "  return changeIndexes\n",
        "def changeWeights(weights, inputs, close):\n",
        "  sameIndexes = []\n",
        "  diffIndexes = []\n",
        "  newWeights = weights.copy()\n",
        "  #print(\"Change W\")\n",
        "  for i in range(len(weights)):\n",
        "    if weights[i] != inputs[i]:\n",
        "      diffIndexes.append(i)\n",
        "    else:\n",
        "      sameIndexes.append(i)\n",
        "  #print(\"I\",inputs)\n",
        "  #print(\"W\", weights)\n",
        "  #print(\"Same Index\", sameIndexes)\n",
        "  #print(\"Diff Index\", diffIndexes)\n",
        "  if close:\n",
        "    changeIndexes = chooseRandomIndex(diffIndexes)\n",
        "    for i in changeIndexes:\n",
        "      newWeights[i] = inputs[i]\n",
        "  else:\n",
        "    changeIndexes = chooseRandomIndex(sameIndexes)\n",
        "    for i in changeIndexes:\n",
        "      newWeights[i] = -1 * inputs[i]\n",
        "  #print(\"W2\", newWeights)\n",
        "  return newWeights\n",
        "\n",
        "def training(inputVectors, labels):\n",
        "  results = []\n",
        "  weights = [1,1,1,1]\n",
        "  for i in range(len(inputVectors)):\n",
        "    quantumPerceptron(inputVectors[i], weights, 2)\n",
        "    circ.draw(output = 'mpl')\n",
        "    simulator = Aer.get_backend('qasm_simulator')\n",
        "    result = execute(circ, simulator).result()\n",
        "    counts = result.get_counts(circ)\n",
        "    if '1' in counts:\n",
        "      prob = counts['1']/1024\n",
        "    else:\n",
        "      prob = 0\n",
        "    #print(counts)\n",
        "    print(i, prob)\n",
        "    if prob > 0.8:\n",
        "      if labels[i] != 1:\n",
        "        weights = changeWeights(weights, inputVectors[i], True)\n",
        "    else:\n",
        "      if labels[i] != 0:\n",
        "        weights = changeWeights(weights, inputVectors[i], False)\n",
        "    print(weights)\n",
        "training(inputVectors, labels)"
      ],
      "execution_count": null,
      "outputs": [
        {
          "output_type": "stream",
          "text": [
            "0 1.0\n",
            "[1, 1, 1, 1]\n",
            "1 1.0\n",
            "[1, 1, 1, 1]\n",
            "2 0.740234375\n",
            "[1, 1, -1, 1]\n",
            "3 0.7568359375\n",
            "[-1, 1, -1, 1]\n",
            "4 0.265625\n",
            "[1, 1, -1, 1]\n",
            "5 0.236328125\n",
            "[1, -1, 1, 1]\n",
            "6 0.4033203125\n",
            "[1, -1, 1, -1]\n",
            "7 0.4951171875\n",
            "[1, -1, 1, -1]\n",
            "8 0.609375\n",
            "[1, -1, -1, -1]\n",
            "9 0.490234375\n",
            "[1, -1, -1, -1]\n"
          ],
          "name": "stdout"
        }
      ]
    },
    {
      "cell_type": "code",
      "metadata": {
        "id": "ORk15NpXdNba",
        "colab_type": "code",
        "colab": {
          "base_uri": "https://localhost:8080/",
          "height": 269
        },
        "outputId": "e79e6fdc-5110-476b-82f3-155c80a6f4c1"
      },
      "source": [
        "'''Code to generate labels'''\n",
        "weights = [-1, -1, -1, -1]\n",
        "inputVectors = [\n",
        "      [1,1,1,1], [1,-1,1,-1], [1,1,1,-1], [1,1,-1,-1], [-1,-1,-1,-1], [1,1,-1,1], [-1,-1,1,1], [1,1,1,1], [-1,1,1,-1], [-1,1,1,1], [1,1,1,1],[1,-1,-1,-1], [1,1,1,-1],\n",
        "      [1,-1,-1,1], [-1,-1,1,-1]\n",
        "]\n",
        "for i in inputVectors:\n",
        "  quantumPerceptron(i, weights, 2)\n",
        "  circ.draw(output = 'mpl')\n",
        "  simulator = Aer.get_backend('qasm_simulator')\n",
        "  result = execute(circ, simulator).result()\n",
        "  counts = result.get_counts(circ)\n",
        "  print(counts)"
      ],
      "execution_count": null,
      "outputs": [
        {
          "output_type": "stream",
          "text": [
            "{'0': 665, '1': 359}\n",
            "{'0': 512, '1': 512}\n",
            "{'0': 511, '1': 513}\n",
            "{'0': 527, '1': 497}\n",
            "{'0': 523, '1': 501}\n",
            "{'0': 510, '1': 514}\n",
            "{'0': 511, '1': 513}\n",
            "{'0': 481, '1': 543}\n",
            "{'0': 496, '1': 528}\n",
            "{'0': 519, '1': 505}\n",
            "{'0': 505, '1': 519}\n",
            "{'0': 517, '1': 507}\n",
            "{'0': 501, '1': 523}\n",
            "{'0': 491, '1': 533}\n",
            "{'0': 523, '1': 501}\n"
          ],
          "name": "stdout"
        }
      ]
    }
  ]
}